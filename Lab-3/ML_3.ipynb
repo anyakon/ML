{
 "cells": [
  {
   "cell_type": "markdown",
   "id": "1742b341",
   "metadata": {},
   "source": [
    "# Загрузить данные из тектовых файлов.\n",
    "\n",
    "\n"
   ]
  },
  {
   "cell_type": "code",
   "execution_count": 1,
   "id": "8aa94150",
   "metadata": {},
   "outputs": [],
   "source": [
    "import numpy as np\n",
    "import pandas as pd\n",
    "import matplotlib.pyplot as plt"
   ]
  },
  {
   "cell_type": "code",
   "execution_count": 91,
   "id": "00d48229",
   "metadata": {},
   "outputs": [],
   "source": [
    "x = pd.read_csv('https://raw.githubusercontent.com/koroteevmv/ML_course/main/ML1.1_sgd/data/x.csv')\n",
    "y = pd.read_csv('https://raw.githubusercontent.com/koroteevmv/ML_course/main/ML1.1_sgd/data/y.csv')"
   ]
  },
  {
   "cell_type": "code",
   "execution_count": 92,
   "id": "15b8098f",
   "metadata": {},
   "outputs": [
    {
     "data": {
      "text/html": [
       "<div>\n",
       "<style scoped>\n",
       "    .dataframe tbody tr th:only-of-type {\n",
       "        vertical-align: middle;\n",
       "    }\n",
       "\n",
       "    .dataframe tbody tr th {\n",
       "        vertical-align: top;\n",
       "    }\n",
       "\n",
       "    .dataframe thead th {\n",
       "        text-align: right;\n",
       "    }\n",
       "</style>\n",
       "<table border=\"1\" class=\"dataframe\">\n",
       "  <thead>\n",
       "    <tr style=\"text-align: right;\">\n",
       "      <th></th>\n",
       "      <th>Unnamed: 0</th>\n",
       "      <th>0</th>\n",
       "    </tr>\n",
       "  </thead>\n",
       "  <tbody>\n",
       "    <tr>\n",
       "      <th>0</th>\n",
       "      <td>0</td>\n",
       "      <td>1.462108</td>\n",
       "    </tr>\n",
       "    <tr>\n",
       "      <th>1</th>\n",
       "      <td>1</td>\n",
       "      <td>1.133769</td>\n",
       "    </tr>\n",
       "    <tr>\n",
       "      <th>2</th>\n",
       "      <td>2</td>\n",
       "      <td>-2.301539</td>\n",
       "    </tr>\n",
       "    <tr>\n",
       "      <th>3</th>\n",
       "      <td>3</td>\n",
       "      <td>1.744812</td>\n",
       "    </tr>\n",
       "    <tr>\n",
       "      <th>4</th>\n",
       "      <td>4</td>\n",
       "      <td>0.042214</td>\n",
       "    </tr>\n",
       "  </tbody>\n",
       "</table>\n",
       "</div>"
      ],
      "text/plain": [
       "   Unnamed: 0         0\n",
       "0           0  1.462108\n",
       "1           1  1.133769\n",
       "2           2 -2.301539\n",
       "3           3  1.744812\n",
       "4           4  0.042214"
      ]
     },
     "execution_count": 92,
     "metadata": {},
     "output_type": "execute_result"
    }
   ],
   "source": [
    "x.head()"
   ]
  },
  {
   "cell_type": "code",
   "execution_count": 93,
   "id": "bbb29024",
   "metadata": {},
   "outputs": [
    {
     "data": {
      "text/html": [
       "<div>\n",
       "<style scoped>\n",
       "    .dataframe tbody tr th:only-of-type {\n",
       "        vertical-align: middle;\n",
       "    }\n",
       "\n",
       "    .dataframe tbody tr th {\n",
       "        vertical-align: top;\n",
       "    }\n",
       "\n",
       "    .dataframe thead th {\n",
       "        text-align: right;\n",
       "    }\n",
       "</style>\n",
       "<table border=\"1\" class=\"dataframe\">\n",
       "  <thead>\n",
       "    <tr style=\"text-align: right;\">\n",
       "      <th></th>\n",
       "      <th>Unnamed: 0</th>\n",
       "      <th>0</th>\n",
       "    </tr>\n",
       "  </thead>\n",
       "  <tbody>\n",
       "    <tr>\n",
       "      <th>0</th>\n",
       "      <td>0</td>\n",
       "      <td>101.159902</td>\n",
       "    </tr>\n",
       "    <tr>\n",
       "      <th>1</th>\n",
       "      <td>1</td>\n",
       "      <td>78.442913</td>\n",
       "    </tr>\n",
       "    <tr>\n",
       "      <th>2</th>\n",
       "      <td>2</td>\n",
       "      <td>-159.238195</td>\n",
       "    </tr>\n",
       "    <tr>\n",
       "      <th>3</th>\n",
       "      <td>3</td>\n",
       "      <td>120.719533</td>\n",
       "    </tr>\n",
       "    <tr>\n",
       "      <th>4</th>\n",
       "      <td>4</td>\n",
       "      <td>2.920673</td>\n",
       "    </tr>\n",
       "  </tbody>\n",
       "</table>\n",
       "</div>"
      ],
      "text/plain": [
       "   Unnamed: 0           0\n",
       "0           0  101.159902\n",
       "1           1   78.442913\n",
       "2           2 -159.238195\n",
       "3           3  120.719533\n",
       "4           4    2.920673"
      ]
     },
     "execution_count": 93,
     "metadata": {},
     "output_type": "execute_result"
    }
   ],
   "source": [
    "y.head()"
   ]
  },
  {
   "cell_type": "code",
   "execution_count": 96,
   "id": "d98f1e0f",
   "metadata": {},
   "outputs": [],
   "source": [
    "x = pd.read_csv('https://raw.githubusercontent.com/koroteevmv/ML_course/main/ML1.1_sgd/data/x.csv', index_col=0)['0']\n",
    "y = pd.read_csv('https://raw.githubusercontent.com/koroteevmv/ML_course/main/ML1.1_sgd/data/y.csv', index_col=0)['0']"
   ]
  },
  {
   "cell_type": "code",
   "execution_count": 6,
   "id": "b9917b40",
   "metadata": {},
   "outputs": [
    {
     "data": {
      "image/png": "[encoded data removed]",
      "text/plain": [
       "<Figure size 432x288 with 1 Axes>"
      ]
     },
     "metadata": {
      "needs_background": "light"
     },
     "output_type": "display_data"
    }
   ],
   "source": [
    "plt.figure()\n",
    "plt.scatter(x, y)\n",
    "plt.show()"
   ]
  },
  {
   "cell_type": "markdown",
   "id": "3d645062",
   "metadata": {},
   "source": [
    "# Создать и построить модель парной линейной регрессии с использованием метода градиентного спуска."
   ]
  },
  {
   "cell_type": "code",
   "execution_count": 101,
   "id": "ddadeaa5",
   "metadata": {},
   "outputs": [],
   "source": [
    "class Model(object):\n",
    "    \"\"\"Модель парной линейной регрессии\"\"\"\n",
    "    def __init__(self):\n",
    "        self.b0 = 0\n",
    "        self.b1 = 0\n",
    "    def predict(self, X):\n",
    "        return self.b0 + self.b1 * X\n",
    "    def error(self, X, Y):\n",
    "        return sum(((self.predict(X) - Y)**2) / (2 * len(X)))\n",
    "    def fit(self, X, Y, alpha=0.001, accuracy=0.01, max_steps=5000):\n",
    "        steps, errors = [], []\n",
    "        step = 0        \n",
    "        for _ in range(10000):\n",
    "            dJ0 = sum(self.predict(X) - Y) /len(X)\n",
    "            dJ1 = sum((self.predict(X) - Y) * X) /len(X)\n",
    "            self.b0 -= alpha * dJ0\n",
    "            self.b1 -= alpha * dJ1    \n",
    "            new_err = hyp.error(X, Y)\n",
    "            step += 1            \n",
    "            steps.append(step)\n",
    "            errors.append(new_err)\n",
    "        return steps, errors"
   ]
  },
  {
   "cell_type": "code",
   "execution_count": 102,
   "id": "2a7771a5",
   "metadata": {},
   "outputs": [
    {
     "name": "stdout",
     "output_type": "stream",
     "text": [
      "error after gradient descent: 2.776975306057215e-06\n"
     ]
    }
   ],
   "source": [
    "hyp = Model()\n",
    "steps, errors = hyp.fit(x, y)\n",
    "J = hyp.error(x, y)\n",
    "print(\"error after gradient descent:\", J)\n"
   ]
  },
  {
   "cell_type": "markdown",
   "id": "65040798",
   "metadata": {},
   "source": [
    "# Оценить на графике качество построенной модели."
   ]
  },
  {
   "cell_type": "code",
   "execution_count": 17,
   "id": "386d8218",
   "metadata": {},
   "outputs": [
    {
     "data": {
      "image/png": "[encoded data removed]",
      "text/plain": [
       "<Figure size 432x288 with 1 Axes>"
      ]
     },
     "metadata": {
      "needs_background": "light"
     },
     "output_type": "display_data"
    }
   ],
   "source": [
    "X0 = np.linspace(-3, 2, 100)\n",
    "Y0 = hyp.predict(X0)\n",
    "plt.figure()\n",
    "plt.scatter(x, y)\n",
    "plt.plot(X0, Y0, 'r')\n",
    "plt.show()"
   ]
  },
  {
   "cell_type": "markdown",
   "id": "2d290559",
   "metadata": {},
   "source": [
    "# Построить кривые обучения."
   ]
  },
  {
   "cell_type": "code",
   "execution_count": 16,
   "id": "88740c20",
   "metadata": {},
   "outputs": [
    {
     "data": {
      "image/png": "[encoded data removed]",
      "text/plain": [
       "<Figure size 432x288 with 1 Axes>"
      ]
     },
     "metadata": {
      "needs_background": "light"
     },
     "output_type": "display_data"
    }
   ],
   "source": [
    "plt.figure()\n",
    "plt.plot(steps, errors, 'g')\n",
    "plt.show()"
   ]
  },
  {
   "cell_type": "code",
   "execution_count": null,
   "id": "fb546cd5",
   "metadata": {},
   "outputs": [],
   "source": [
    "\n",
    "Модифицируйте алгоритм градиентного спука таким образом, чтобы он останавливаля, если ошибка перестает снижаться. Для этого сравнивайте, на сколько понизилась ошибка на каждом шаге и если это снижение меньше некоторой заранее заданной очень маленькой величины - выходите из цикла. Эту величину можно взять одну миллионную, например.\n",
    "Убедитесь, что алгоритм градиентного спуска завершается всегда - либо если ошибка перестает существенно меняться, либо при достижении максимального количества шагов.\n",
    "Реализуйте механизм адаптивной скорости обучения. Чтобы не задавать вручную параметр alpha можно отслеживать, увеличивается ли ошибка после первого шага градиентного спуска. В начале задаем скорость обучения близкой к 1. Если ошибка после одного шага увеличивается - скорость обучения надо уменьшить (например, в 2 раза). Если не увеличивается - скорость обучения можно не трогать. Еще подумайте, как после уменьшения скорости перезапускать градиентный спуск заново.\n",
    "Добавьте к классу модели метод рисования графиков. Сделайте так, чтобы он был независим от масштаба переданных данных."
   ]
  },
  {
   "cell_type": "markdown",
   "id": "5715b16d",
   "metadata": {},
   "source": [
    "# Проверьте работу модели с разными начальными значениями параметров. Убедитесь, что модель всегда сходится к оптимуму."
   ]
  },
  {
   "cell_type": "code",
   "execution_count": 73,
   "id": "c1d420b6",
   "metadata": {},
   "outputs": [],
   "source": [
    "class Model(object):\n",
    "    \"\"\"Модель парной линейной регрессии\"\"\"\n",
    "    def __init__(self):\n",
    "        self.b0 = 10\n",
    "        self.b1 = 10\n",
    "    def predict(self, X):\n",
    "        return self.b0 + self.b1 * X\n",
    "    def error(self, X, Y):\n",
    "        return sum(((self.predict(X) - Y)**2) / (2 * len(X)))\n",
    "    def fit(self, X, Y, alpha=0.001, accuracy=0.01, max_steps=5000):\n",
    "        steps, errors = [], []\n",
    "        step = 0        \n",
    "        for _ in range(10000):\n",
    "            dJ0 = sum(self.predict(X) - Y) /len(X)\n",
    "            dJ1 = sum((self.predict(X) - Y) * X) /len(X)\n",
    "            self.b0 -= alpha * dJ0\n",
    "            self.b1 -= alpha * dJ1    \n",
    "            new_err = hyp.error(X, Y)\n",
    "            step += 1            \n",
    "            steps.append(step)\n",
    "            errors.append(new_err)\n",
    "        return steps, errors"
   ]
  },
  {
   "cell_type": "code",
   "execution_count": 74,
   "id": "6fc2b8a3",
   "metadata": {},
   "outputs": [
    {
     "name": "stdout",
     "output_type": "stream",
     "text": [
      "error after gradient descent: 8.256975174052467e-07\n"
     ]
    }
   ],
   "source": [
    "hyp = Model() \n",
    "steps, errors = hyp.fit(x2, y2)\n",
    "J = hyp.error(x2, y2)\n",
    "print(\"error after gradient descent:\", J)\n"
   ]
  },
  {
   "cell_type": "markdown",
   "id": "a0211ada",
   "metadata": {},
   "source": [
    "# Проверьте работу модели с другими значениями скорости обучения. Найдите значение, при котором градиентный спуск расходится."
   ]
  },
  {
   "cell_type": "code",
   "execution_count": null,
   "id": "873c9020",
   "metadata": {},
   "outputs": [],
   "source": [
    "class Model(object):\n",
    "    \"\"\"Модель парной линейной регрессии\"\"\"\n",
    "    def __init__(self):\n",
    "        self.b0 = 10\n",
    "        self.b1 = 10\n",
    "    def predict(self, X):\n",
    "        return self.b0 + self.b1 * X\n",
    "    def error(self, X, Y):\n",
    "        return sum(((self.predict(X) - Y)**2) / (2 * len(X)))\n",
    "    def fit(self, X, Y, alpha, accuracy=0.01, max_steps=5000):\n",
    "        steps, errors = [], []\n",
    "        step = 0        \n",
    "        for _ in range(10000):\n",
    "            dJ0 = sum(self.predict(X) - Y) /len(X)\n",
    "            dJ1 = sum((self.predict(X) - Y) * X) /len(X)\n",
    "            self.b0 -= alpha * dJ0\n",
    "            self.b1 -= alpha * dJ1    \n",
    "            new_err = hyp.error(X, Y)\n",
    "            step += 1            \n",
    "            steps.append(step)\n",
    "            errors.append(new_err)\n",
    "        return steps, errors"
   ]
  },
  {
   "cell_type": "code",
   "execution_count": 75,
   "id": "3b25d5ed",
   "metadata": {},
   "outputs": [
    {
     "name": "stdout",
     "output_type": "stream",
     "text": [
      "error after gradient descent: 1.658624426653096e-27\n"
     ]
    }
   ],
   "source": [
    "hyp = Model() \n",
    "steps, errors = hyp.fit(x2, y2,0.1) # изменяем скорость обучения\n",
    "J = hyp.error(x2, y2)\n",
    "print(\"error after gradient descent:\", J)"
   ]
  },
  {
   "cell_type": "code",
   "execution_count": 76,
   "id": "2e73a676",
   "metadata": {},
   "outputs": [
    {
     "name": "stdout",
     "output_type": "stream",
     "text": [
      "error after gradient descent: nan\n"
     ]
    }
   ],
   "source": [
    "hyp = Model() \n",
    "steps, errors = hyp.fit(x2, y2,2) # изменяем скорость обучения\n",
    "J = hyp.error(x2, y2)\n",
    "print(\"error after gradient descent:\", J)\n",
    "# при изменение скорости на 2 градиентный спуск расходится => мы не найдем нужную функцию"
   ]
  },
  {
   "cell_type": "markdown",
   "id": "69c17e95",
   "metadata": {},
   "source": [
    " # Модифицируйте код модели таким образом, чтобы он корректно работал как с Series, так и с DataFrame. При этом, конечно, датафрейм не должен содержать \"лишних\" столбцов."
   ]
  },
  {
   "cell_type": "code",
   "execution_count": 41,
   "id": "0e1217db",
   "metadata": {},
   "outputs": [],
   "source": [
    "x = pd.read_csv('https://raw.githubusercontent.com/koroteevmv/ML_course/main/ML1.1_sgd/data/x.csv')\n",
    "y = pd.read_csv('https://raw.githubusercontent.com/koroteevmv/ML_course/main/ML1.1_sgd/data/y.csv')"
   ]
  },
  {
   "cell_type": "code",
   "execution_count": 42,
   "id": "935294fd",
   "metadata": {},
   "outputs": [],
   "source": [
    "x1 = x.drop(columns = x.columns[0]) # удаление  лишних столбцов с сохранением  DataFrame\n",
    "y1 = y.drop(columns = y.columns[0])"
   ]
  },
  {
   "cell_type": "code",
   "execution_count": 43,
   "id": "3f5a5b47",
   "metadata": {},
   "outputs": [
    {
     "name": "stdout",
     "output_type": "stream",
     "text": [
      "error after gradient descent: 2.776975306057215e-06\n"
     ]
    }
   ],
   "source": [
    "hyp = Model() # проверка работы модели с DataFrame\n",
    "steps, errors = hyp.fit(x1[\"0\"], y1[\"0\"])\n",
    "J = hyp.error(x1[\"0\"], y1[\"0\"])\n",
    "print(\"error after gradient descent:\", J)\n"
   ]
  },
  {
   "cell_type": "code",
   "execution_count": 46,
   "id": "5f044772",
   "metadata": {},
   "outputs": [],
   "source": [
    "x2 = x.iloc[:,-1] # удаление  лишних столбцов с преобразованием в тип Series\n",
    "y2 = y.iloc[:,-1]"
   ]
  },
  {
   "cell_type": "code",
   "execution_count": 48,
   "id": "d10c4cad",
   "metadata": {},
   "outputs": [
    {
     "name": "stdout",
     "output_type": "stream",
     "text": [
      "error after gradient descent: 2.776975306057215e-06\n"
     ]
    }
   ],
   "source": [
    "hyp = Model() # проверка работы модели с Series\n",
    "steps, errors = hyp.fit(x2, y2)\n",
    "J = hyp.error(x2, y2)\n",
    "print(\"error after gradient descent:\", J)\n"
   ]
  },
  {
   "cell_type": "markdown",
   "id": "8a15d888",
   "metadata": {},
   "source": [
    "# Модифицируйте алгоритм градиентного спука таким образом, чтобы он останавливаля, если ошибка перестает снижаться. Для этого сравнивайте, на сколько понизилась ошибка на каждом шаге и если это снижение меньше некоторой заранее заданной очень маленькой величины - выходите из цикла. Эту величину можно взять одну миллионную, например."
   ]
  },
  {
   "cell_type": "code",
   "execution_count": 149,
   "id": "a5696fff",
   "metadata": {},
   "outputs": [],
   "source": [
    "class Model(object):\n",
    "    \"\"\"Модель парной линейной регрессии\"\"\"\n",
    "    def __init__(self):\n",
    "        self.b0 = 0\n",
    "        self.b1 = 0\n",
    "    def predict(self, X):\n",
    "        return self.b0 + self.b1 * X\n",
    "    def error(self, X, Y):\n",
    "        return sum(((self.predict(X) - Y)**2) / (2 * len(X)))\n",
    "    def fit(self, X, Y,alpha=0.001, accuracy=0.01, max_steps=5000):\n",
    "        steps, errors = [], []\n",
    "        step = 0\n",
    "        ex_eror = hyp.error(X, Y) + 0.000001\n",
    "        for _ in range(10000):\n",
    "            dJ0 = sum(self.predict(X) - Y) /len(X)\n",
    "            dJ1 = sum((self.predict(X) - Y) * X) /len(X)\n",
    "            self.b0 -= alpha * dJ0\n",
    "            self.b1 -= alpha * dJ1    \n",
    "            new_err = hyp.error(X, Y)\n",
    "            if  ex_eror - new_err >=  0.000001:\n",
    "                step += 1            \n",
    "                steps.append(step)\n",
    "                errors.append(new_err)\n",
    "                ex_eror = new_err\n",
    "            else:\n",
    "                print(\"ошибка перестает снижаться\")\n",
    "                break\n",
    "                \n",
    "        return steps, errors"
   ]
  },
  {
   "cell_type": "code",
   "execution_count": 150,
   "id": "e194c39a",
   "metadata": {},
   "outputs": [
    {
     "name": "stdout",
     "output_type": "stream",
     "text": [
      "ошибка перестает снижаться\n",
      "error after gradient descent: 0.0005037577550026273\n"
     ]
    }
   ],
   "source": [
    "hyp = Model()\n",
    "steps, errors = hyp.fit(x, y)\n",
    "J = hyp.error(x, y)\n",
    "print(\"error after gradient descent:\", J)"
   ]
  },
  {
   "cell_type": "markdown",
   "id": "a6278950",
   "metadata": {},
   "source": [
    "# Убедитесь, что алгоритм градиентного спуска завершается всегда - либо если ошибка перестает существенно меняться, либо при достижении максимального количества шагов."
   ]
  },
  {
   "cell_type": "code",
   "execution_count": 151,
   "id": "e892f56c",
   "metadata": {},
   "outputs": [],
   "source": [
    "class Model(object):\n",
    "    \"\"\"Модель парной линейной регрессии\"\"\"\n",
    "    def __init__(self):\n",
    "        self.b0 = 0\n",
    "        self.b1 = 0\n",
    "    def predict(self, X):\n",
    "        return self.b0 + self.b1 * X\n",
    "    def error(self, X, Y):\n",
    "        return sum(((self.predict(X) - Y)**2) / (2 * len(X)))\n",
    "    def fit(self, X, Y,alpha=0.001, accuracy=0.000001, max_steps=5000):\n",
    "        steps, errors = [], []\n",
    "        step = 0\n",
    "        ex_eror = hyp.error(X, Y) + 0.000001\n",
    "        for l in range(10000):\n",
    "            dJ0 = sum(self.predict(X) - Y) /len(X)\n",
    "            dJ1 = sum((self.predict(X) - Y) * X) /len(X)\n",
    "            self.b0 -= alpha * dJ0\n",
    "            self.b1 -= alpha * dJ1    \n",
    "            new_err = hyp.error(X, Y)\n",
    "            if  ex_eror - new_err >=  accuracy:\n",
    "                step += 1            \n",
    "                steps.append(step)\n",
    "                errors.append(new_err)\n",
    "                ex_eror = new_err\n",
    "            else:\n",
    "                print(l) #явно выводим инерацию, на котором прерывается цикл\n",
    "                print(\"ошибка перестает снижаться\")\n",
    "                break\n",
    "                \n",
    "        return steps, errors"
   ]
  },
  {
   "cell_type": "code",
   "execution_count": 152,
   "id": "d3eb8c66",
   "metadata": {},
   "outputs": [
    {
     "name": "stdout",
     "output_type": "stream",
     "text": [
      "7226\n",
      "ошибка перестает снижаться\n",
      "error after gradient descent: 0.0005244076717215663\n"
     ]
    }
   ],
   "source": [
    "hyp = Model()\n",
    "steps, errors = hyp.fit(x, y)\n",
    "J = hyp.error(x, y)\n",
    "print(\"error after gradient descent:\", J)"
   ]
  },
  {
   "cell_type": "code",
   "execution_count": 155,
   "id": "277d1d6f",
   "metadata": {},
   "outputs": [],
   "source": [
    "class Model(object):\n",
    "    \"\"\"Модель парной линейной регрессии\"\"\"\n",
    "    def __init__(self):\n",
    "        self.b0 = 0\n",
    "        self.b1 = 0\n",
    "    def predict(self, X):\n",
    "        return self.b0 + self.b1 * X\n",
    "    def error(self, X, Y):\n",
    "        return sum(((self.predict(X) - Y)**2) / (2 * len(X)))\n",
    "    def fit(self, X, Y,alpha=0.001, accuracy=0.000001, max_steps=5000):\n",
    "        steps, errors = [], []\n",
    "        step = 0\n",
    "        ex_eror = hyp.error(X, Y) + 0.000001\n",
    "        for _ in range(1000): # или же уменьшаем количесвто интераций, чтобы проверить что алгоритм закончит свою работу до ошибки \n",
    "            dJ0 = sum(self.predict(X) - Y) /len(X)\n",
    "            dJ1 = sum((self.predict(X) - Y) * X) /len(X)\n",
    "            self.b0 -= alpha * dJ0\n",
    "            self.b1 -= alpha * dJ1    \n",
    "            new_err = hyp.error(X, Y)\n",
    "            if  ex_eror - new_err >=  accuracy:\n",
    "                step += 1            \n",
    "                steps.append(step)\n",
    "                errors.append(new_err)\n",
    "                ex_eror = new_err\n",
    "            else:\n",
    "                print(\"ошибка перестает снижаться\")\n",
    "                break\n",
    "                \n",
    "        return steps, errors"
   ]
  },
  {
   "cell_type": "code",
   "execution_count": 156,
   "id": "3ff118b0",
   "metadata": {},
   "outputs": [
    {
     "name": "stdout",
     "output_type": "stream",
     "text": [
      "error after gradient descent: 253.13429386398101\n"
     ]
    }
   ],
   "source": [
    "hyp = Model()\n",
    "steps, errors = hyp.fit(x, y)\n",
    "J = hyp.error(x, y)\n",
    "print(\"error after gradient descent:\", J)"
   ]
  },
  {
   "cell_type": "markdown",
   "id": "8c289d96",
   "metadata": {},
   "source": [
    "# Реализуйте механизм адаптивной скорости обучения. Чтобы не задавать вручную параметр alpha можно отслеживать, увеличивается ли ошибка после первого шага градиентного спуска. В начале задаем скорость обучения близкой к 1. Если ошибка после одного шага увеличивается - скорость обучения надо уменьшить (например, в 2 раза). Если не увеличивается - скорость обучения можно не трогать. Еще подумайте, как после уменьшения скорости перезапускать градиентный спуск заново."
   ]
  },
  {
   "cell_type": "code",
   "execution_count": null,
   "id": "8857c62b",
   "metadata": {},
   "outputs": [],
   "source": [
    "class Model(object):\n",
    "    \"\"\"Модель парной линейной регрессии\"\"\"\n",
    "    def __init__(self):\n",
    "        self.b0 = 0\n",
    "        self.b1 = 0\n",
    "    def predict(self, X):\n",
    "        return self.b0 + self.b1 * X\n",
    "    def error(self, X, Y):\n",
    "        return sum(((self.predict(X) - Y)**2) / (2 * len(X)))\n",
    "    def fit(self, X, Y, accuracy=0.000001, max_steps=5000):\n",
    "        alpha = 0.999\n",
    "        steps, errors = [], []\n",
    "        step = 0\n",
    "        ex_eror = hyp.error(X, Y) + 0.000001\n",
    "        for _ in range(1000): # или же уменьшаем количесвто интераций, чтобы проверить что алгоритм закончит свою работу до ошибки \n",
    "            dJ0 = sum(self.predict(X) - Y) /len(X)\n",
    "            dJ1 = sum((self.predict(X) - Y) * X) /len(X)\n",
    "            self.b0 -= alpha * dJ0\n",
    "            self.b1 -= alpha * dJ1    \n",
    "            new_err = hyp.error(X, Y)\n",
    "            \n",
    "            if  ex_eror - new_err >=  accuracy :\n",
    "                step += 1            \n",
    "                steps.append(step)\n",
    "                errors.append(new_err)\n",
    "                ex_eror = new_err\n",
    "            else:\n",
    "                print(\"ошибка перестает снижаться\")\n",
    "                break\n",
    "                \n",
    "        return steps, errors"
   ]
  }
 ],
 "metadata": {
  "kernelspec": {
   "display_name": "Python 3",
   "language": "python",
   "name": "python3"
  },
  "language_info": {
   "codemirror_mode": {
    "name": "ipython",
    "version": 3
   },
   "file_extension": ".py",
   "mimetype": "text/x-python",
   "name": "python",
   "nbconvert_exporter": "python",
   "pygments_lexer": "ipython3",
   "version": "3.8.8"
  }
 },
 "nbformat": 4,
 "nbformat_minor": 5
}
